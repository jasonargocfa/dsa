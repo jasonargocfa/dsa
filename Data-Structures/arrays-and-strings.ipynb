{
 "cells": [
  {
   "cell_type": "markdown",
   "id": "8cf91ad0-f1c7-43c0-94df-d939154dd58d",
   "metadata": {},
   "source": [
    "### 1.1 Determine if a string has all unique characters (& with no additional data structures)"
   ]
  },
  {
   "cell_type": "code",
   "execution_count": 22,
   "id": "0b597476-3951-4762-a1ff-2d7904b10df9",
   "metadata": {},
   "outputs": [],
   "source": [
    "# with helper dict: O(n) or constant time with 128 characters!\n",
    "def all_unique(test_string):\n",
    "    if(len(test_string) >= 256): # if longer than 256, greater than extended ascii\n",
    "        return False \n",
    "    d = {} # can do set instead of dict, don't need stored value\n",
    "    for c in test_string:\n",
    "        if c in d:\n",
    "            return Falseaw\n",
    "        else:\n",
    "            d[c] = True\n",
    "    return True\n",
    "\n",
    "# no additional DS [sort for O( n log n) & check neighbors with O(n)]\n",
    "def all_unique_noDS(test_string):\n",
    "    s = ''.join(sorted(test_string))\n",
    "    for i in range(0,len(s)-1):\n",
    "        if s[i] == s[i+1]:\n",
    "            return False\n",
    "    return True"
   ]
  },
  {
   "cell_type": "code",
   "execution_count": 23,
   "id": "f4cfe279-34db-4250-938e-f868eaec3790",
   "metadata": {},
   "outputs": [
    {
     "name": "stdout",
     "output_type": "stream",
     "text": [
      "False True\n",
      "False True\n"
     ]
    }
   ],
   "source": [
    "print(all_unique('hello'), all_unique('helo'))\n",
    "print(all_unique_noDS('hello'), all_unique_noDS('helo'))"
   ]
  },
  {
   "cell_type": "code",
   "execution_count": null,
   "id": "5faa8e41-9fc4-4774-8736-a52b1f24eec2",
   "metadata": {},
   "outputs": [],
   "source": []
  }
 ],
 "metadata": {
  "kernelspec": {
   "display_name": "Python 3 (ipykernel)",
   "language": "python",
   "name": "python3"
  },
  "language_info": {
   "codemirror_mode": {
    "name": "ipython",
    "version": 3
   },
   "file_extension": ".py",
   "mimetype": "text/x-python",
   "name": "python",
   "nbconvert_exporter": "python",
   "pygments_lexer": "ipython3",
   "version": "3.9.7"
  }
 },
 "nbformat": 4,
 "nbformat_minor": 5
}
